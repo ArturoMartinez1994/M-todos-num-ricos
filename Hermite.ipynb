{
  "nbformat": 4,
  "nbformat_minor": 0,
  "metadata": {
    "colab": {
      "provenance": [],
      "authorship_tag": "ABX9TyOwVP0NNu/eI+1XzrL32oev",
      "include_colab_link": true
    },
    "kernelspec": {
      "name": "python3",
      "display_name": "Python 3"
    },
    "language_info": {
      "name": "python"
    }
  },
  "cells": [
    {
      "cell_type": "markdown",
      "metadata": {
        "id": "view-in-github",
        "colab_type": "text"
      },
      "source": [
        "<a href=\"https://colab.research.google.com/github/ArturoMartinez1994/M-todos-num-ricos/blob/main/Hermite.ipynb\" target=\"_parent\"><img src=\"https://colab.research.google.com/assets/colab-badge.svg\" alt=\"Open In Colab\"/></a>"
      ]
    },
    {
      "cell_type": "code",
      "execution_count": 4,
      "metadata": {
        "colab": {
          "base_uri": "https://localhost:8080/"
        },
        "id": "hqnaHWVJy2Nf",
        "outputId": "314fe007-e394-4680-e618-9c5dfede32e1"
      },
      "outputs": [
        {
          "output_type": "stream",
          "name": "stdout",
          "text": [
            "+-----+----------+-----------+-----------+----------+----------+-----------+\n",
            "|   z |   Q[:,0] |    Q[:,1] |    Q[:,2] |   Q[:,3] |   Q[:,4] |    Q[:,5] |\n",
            "+=====+==========+===========+===========+==========+==========+===========+\n",
            "| 1.3 | 0.620086 |  0        |  0        | 0        | 0        |  0        |\n",
            "+-----+----------+-----------+-----------+----------+----------+-----------+\n",
            "| 1.3 | 0.620086 | -0.522023 |  0        | 0        | 0        |  0        |\n",
            "+-----+----------+-----------+-----------+----------+----------+-----------+\n",
            "| 1.6 | 0.455402 | -0.548946 | -0.089743 | 0        | 0        |  0        |\n",
            "+-----+----------+-----------+-----------+----------+----------+-----------+\n",
            "| 1.6 | 0.455402 | -0.569896 | -0.069833 | 0.066366 | 0        |  0        |\n",
            "+-----+----------+-----------+-----------+----------+----------+-----------+\n",
            "| 1.9 | 0.281819 | -0.578612 | -0.029054 | 0.067966 | 0.002667 |  0        |\n",
            "+-----+----------+-----------+-----------+----------+----------+-----------+\n",
            "| 1.9 | 0.281819 | -0.581157 | -0.008484 | 0.068567 | 0.001002 | -0.002775 |\n",
            "+-----+----------+-----------+-----------+----------+----------+-----------+\n",
            "\n",
            "H(1.5) =0.51182770\n"
          ]
        }
      ],
      "source": [
        "from tabulate import tabulate\n",
        "\n",
        "\n",
        "def interpolación_de_hermite(x,fx,dfx):\n",
        "    \"\"\"\n",
        "    x: lista de puntos [1.3, 1.6, 1.9]\n",
        "    fx: lista de valores de la función [0.6200860, 04554022, 0.2818186]\n",
        "    dfx: lista de valores de la derivada de la función [-0.5220232, -0.5698959, -0.5811571]\n",
        "    \"\"\"\n",
        "\n",
        "    n = len(x)\n",
        "    z = [0] * (2*n)\n",
        "    Q = [[0 for _ in range(2*n)] for _ in range(2*n)]\n",
        "\n",
        "    for i in range(n):\n",
        "        z[2*i] = x[i]\n",
        "        z[2*i+1] = x[i]\n",
        "        Q[2*i][0] = fx[i]\n",
        "        Q[2*i+1][0] = fx[i]\n",
        "        Q[2*i+1][1] = dfx[i]\n",
        "\n",
        "        if i != 0:\n",
        "          Q[2*i][1] = (Q[2*i][0] - Q[2*i-1][0]) / (z[2*i] - z[2*i-1])\n",
        "\n",
        "    for i in range(2, 2*n):\n",
        "        for j in range(2, i+1):\n",
        "            Q[i][j] = (Q[i][j-1] - Q[i-1][j-1])/(z[i]-z[i-j])\n",
        "    coeficientes = [Q[i][i] for i in range(2*n)]\n",
        "    return coeficientes, z , Q\n",
        "\n",
        "\n",
        "\n",
        "def evaluar_hermite(x_eval, coeficientes, z):\n",
        "    \"\"\"\n",
        "    x_eval: valor en el que se evalúa el polinomio\n",
        "    coeficientes: lista de coeficientes Q[i][i]\n",
        "    z: lista de nodos (con repeticiones)\n",
        "    \"\"\"\n",
        "    n = len(coeficientes)\n",
        "    resultado = coeficientes[-1]\n",
        "    for i in range(n-2,-1,-1):\n",
        "        resultado = resultado * (x_eval - z[i]) + coeficientes[i]\n",
        "    return resultado\n",
        "\n",
        "def mostrar_tabla(z,Q):\n",
        "\n",
        "    headers = [\"z\"] + [f\"Q[:,{j}]\" for j in range(len(Q[0]))]\n",
        "    tabla = []\n",
        "    for i in range(len(z)):\n",
        "        fila = [z[i]]\n",
        "        for j in range(len(z)):\n",
        "            valor = Q[i][j]\n",
        "            fila.append(f\"{valor:.6f}\" if valor is not None else \"\")\n",
        "        tabla.append(fila)\n",
        "    print(tabulate(tabla, headers=headers, tablefmt=\"grid\"))\n",
        "\n",
        "\n",
        "\n",
        "if __name__== \"__main__\":\n",
        "    from math import exp\n",
        "\n",
        "    x = [1.3, 1.6, 1.9]\n",
        "    fx = [0.6200860, 0.4554022, 0.2818186]\n",
        "    dfx = [-0.5220232, -0.5698959, -0.5811571]\n",
        "    coeficientes, z , Q  = interpolación_de_hermite(x,fx,dfx)\n",
        "    mostrar_tabla(z,Q)\n",
        "    x_eval = 1.5\n",
        "    resultado = evaluar_hermite(x_eval, coeficientes, z)\n",
        "    print(f\"\\nH({x_eval}) ={resultado:.8f}\")"
      ]
    }
  ]
}