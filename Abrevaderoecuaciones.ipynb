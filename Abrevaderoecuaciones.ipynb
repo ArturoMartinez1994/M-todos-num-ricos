{
  "nbformat": 4,
  "nbformat_minor": 0,
  "metadata": {
    "colab": {
      "provenance": [],
      "authorship_tag": "ABX9TyNWJCJoRlok1DL964knrU6j",
      "include_colab_link": true
    },
    "kernelspec": {
      "name": "python3",
      "display_name": "Python 3"
    },
    "language_info": {
      "name": "python"
    }
  },
  "cells": [
    {
      "cell_type": "markdown",
      "metadata": {
        "id": "view-in-github",
        "colab_type": "text"
      },
      "source": [
        "<a href=\"https://colab.research.google.com/github/ArturoMartinez1994/M-todos-num-ricos/blob/main/Abrevaderoecuaciones.ipynb\" target=\"_parent\"><img src=\"https://colab.research.google.com/assets/colab-badge.svg\" alt=\"Open In Colab\"/></a>"
      ]
    },
    {
      "cell_type": "code",
      "execution_count": 51,
      "metadata": {
        "colab": {
          "base_uri": "https://localhost:8080/"
        },
        "id": "UGqOwqloVlwP",
        "outputId": "6a13852e-2854-408e-c9e7-4c671cb9d86d"
      },
      "outputs": [
        {
          "output_type": "stream",
          "name": "stdout",
          "text": [
            "12.39805099627096\n"
          ]
        }
      ],
      "source": [
        "import math\n",
        "\n",
        "L = 10.0\n",
        "r = 1.0\n",
        "V = 12.4\n",
        "h=0.2231\n",
        "v = L * (0.5*math.pi*r**2-r**2*math.asin(h/r)-h*(r**2-h**2)**1/2)\n",
        "print(v)"
      ]
    },
    {
      "cell_type": "code",
      "source": [
        "e = abs(v-12.40) #margen de error con prueba de h al tanteo, usando error absoluto con v como nuestro valor obtenido y 12.40 como nuestro valor real"
      ],
      "metadata": {
        "id": "67wWGfhRXiJN"
      },
      "execution_count": 52,
      "outputs": []
    },
    {
      "cell_type": "code",
      "source": [
        "print(e)"
      ],
      "metadata": {
        "colab": {
          "base_uri": "https://localhost:8080/"
        },
        "id": "aACMGPovavDK",
        "outputId": "2fd2ae6d-920c-4a83-a9a1-f62987d2c277"
      },
      "execution_count": 53,
      "outputs": [
        {
          "output_type": "stream",
          "name": "stdout",
          "text": [
            "0.0019490037290399442\n"
          ]
        }
      ]
    },
    {
      "cell_type": "code",
      "source": [
        "H = 1-h #Se usa h que es la altura del recipiente que no contiene agua, por lo que 1-h nos da como resultado la profundidad del agua H en el abrevadero"
      ],
      "metadata": {
        "id": "GPg8NF7YaxIp"
      },
      "execution_count": 54,
      "outputs": []
    },
    {
      "cell_type": "code",
      "source": [
        "print(H)"
      ],
      "metadata": {
        "colab": {
          "base_uri": "https://localhost:8080/"
        },
        "id": "cibiuhesbAvJ",
        "outputId": "17d0e51a-c6b2-4fd3-d48c-481bcfc6e6ad"
      },
      "execution_count": 55,
      "outputs": [
        {
          "output_type": "stream",
          "name": "stdout",
          "text": [
            "0.7769\n"
          ]
        }
      ]
    },
    {
      "cell_type": "code",
      "source": [],
      "metadata": {
        "id": "vZNMDMLSbDN5"
      },
      "execution_count": null,
      "outputs": []
    }
  ]
}