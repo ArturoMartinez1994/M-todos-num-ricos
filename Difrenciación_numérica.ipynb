{
  "nbformat": 4,
  "nbformat_minor": 0,
  "metadata": {
    "colab": {
      "provenance": [],
      "authorship_tag": "ABX9TyNmR+Hdsdhx4PSucSn4WYPn",
      "include_colab_link": true
    },
    "kernelspec": {
      "name": "python3",
      "display_name": "Python 3"
    },
    "language_info": {
      "name": "python"
    }
  },
  "cells": [
    {
      "cell_type": "markdown",
      "metadata": {
        "id": "view-in-github",
        "colab_type": "text"
      },
      "source": [
        "<a href=\"https://colab.research.google.com/github/ArturoMartinez1994/M-todos-num-ricos/blob/main/Difrenciaci%C3%B3n_num%C3%A9rica.ipynb\" target=\"_parent\"><img src=\"https://colab.research.google.com/assets/colab-badge.svg\" alt=\"Open In Colab\"/></a>"
      ]
    },
    {
      "cell_type": "code",
      "execution_count": 1,
      "metadata": {
        "colab": {
          "base_uri": "https://localhost:8080/"
        },
        "id": "GtOgmDfbFDQw",
        "outputId": "7c4e516f-5ffe-411e-e39a-abe8dba77efd"
      },
      "outputs": [
        {
          "output_type": "stream",
          "name": "stdout",
          "text": [
            "1) Extremo de tres puntos (adelante):\n",
            "-3⋅f(x) + 4⋅f(h + x) - f(2⋅h + x)\n",
            "─────────────────────────────────\n",
            "               2⋅h               \n",
            "\n",
            "2) Punto medio de tres puntos (centrada):\n",
            "-f(-h + x) + f(h + x)\n",
            "─────────────────────\n",
            "         2⋅h         \n",
            "\n",
            "3) Punto medio de cinco puntos (centrada):\n",
            "f(-2⋅h + x) - 8⋅f(-h + x) + 8⋅f(h + x) - f(2⋅h + x)\n",
            "───────────────────────────────────────────────────\n",
            "                       12⋅h                        \n",
            "\n",
            "4) Extremo de cinco puntos (adelante):\n",
            "-25⋅f(x) + 48⋅f(h + x) - 36⋅f(2⋅h + x) + 16⋅f(3⋅h + x) - 3⋅f(4⋅h + x)\n",
            "─────────────────────────────────────────────────────────────────────\n",
            "                                12⋅h                                 \n",
            "\n",
            "5) Segunda derivada en punto medio:\n",
            "-2⋅f(x) + f(-h + x) + f(h + x)\n",
            "──────────────────────────────\n",
            "               2              \n",
            "              h               \n"
          ]
        }
      ],
      "source": [
        "import sympy as sp\n",
        "\n",
        "# Definir variables\n",
        "x, h = sp.symbols('x h')\n",
        "f = sp.Function('f')\n",
        "\n",
        "# 1. Fórmula del extremo de tres puntos (adelante)\n",
        "# f'(x) ≈ (-3f(x) + 4f(x+h) - f(x+2h)) / (2h)\n",
        "def extremo_tres_puntos():\n",
        "    return sp.simplify((-3*f(x) + 4*f(x+h) - f(x+2*h)) / (2*h))\n",
        "\n",
        "# 2. Fórmula del punto medio de tres puntos (centrada)\n",
        "# f'(x) ≈ (f(x+h) - f(x-h)) / (2h)\n",
        "def punto_medio_tres_puntos():\n",
        "    return sp.simplify((f(x+h) - f(x-h)) / (2*h))\n",
        "\n",
        "# 3. Fórmula del punto medio de cinco puntos (centrada)\n",
        "# f'(x) ≈ (f(x-2h) - 8f(x-h) + 8f(x+h) - f(x+2h)) / (12h)\n",
        "def punto_medio_cinco_puntos():\n",
        "    return sp.simplify((f(x-2*h) - 8*f(x-h) + 8*f(x+h) - f(x+2*h)) / (12*h))\n",
        "\n",
        "# 4. Fórmula del extremo de cinco puntos (adelante)\n",
        "# f'(x) ≈ (-25f(x) + 48f(x+h) - 36f(x+2h) + 16f(x+3h) - 3f(x+4h)) / (12h)\n",
        "def extremo_cinco_puntos():\n",
        "    return sp.simplify((-25*f(x) + 48*f(x+h) - 36*f(x+2*h) + 16*f(x+3*h) - 3*f(x+4*h)) / (12*h))\n",
        "\n",
        "# 5. Segunda derivada en punto medio de tres puntos\n",
        "# f''(x) ≈ (f(x+h) - 2f(x) + f(x-h)) / h^2\n",
        "def segunda_derivada_punto_medio():\n",
        "    return sp.simplify((f(x+h) - 2*f(x) + f(x-h)) / h**2)\n",
        "\n",
        "\n",
        "# Mostrar resultados\n",
        "print(\"1) Extremo de tres puntos (adelante):\")\n",
        "sp.pprint(extremo_tres_puntos())\n",
        "\n",
        "print(\"\\n2) Punto medio de tres puntos (centrada):\")\n",
        "sp.pprint(punto_medio_tres_puntos())\n",
        "\n",
        "print(\"\\n3) Punto medio de cinco puntos (centrada):\")\n",
        "sp.pprint(punto_medio_cinco_puntos())\n",
        "\n",
        "print(\"\\n4) Extremo de cinco puntos (adelante):\")\n",
        "sp.pprint(extremo_cinco_puntos())\n",
        "\n",
        "print(\"\\n5) Segunda derivada en punto medio:\")\n",
        "sp.pprint(segunda_derivada_punto_medio())\n"
      ]
    }
  ]
}