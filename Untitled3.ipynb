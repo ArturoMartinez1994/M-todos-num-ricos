{
  "nbformat": 4,
  "nbformat_minor": 0,
  "metadata": {
    "colab": {
      "provenance": [],
      "authorship_tag": "ABX9TyPmSrEpJ/e/JpizWtIYQA3r",
      "include_colab_link": true
    },
    "kernelspec": {
      "name": "python3",
      "display_name": "Python 3"
    },
    "language_info": {
      "name": "python"
    }
  },
  "cells": [
    {
      "cell_type": "markdown",
      "metadata": {
        "id": "view-in-github",
        "colab_type": "text"
      },
      "source": [
        "<a href=\"https://colab.research.google.com/github/ArturoMartinez1994/M-todos-num-ricos/blob/main/Untitled3.ipynb\" target=\"_parent\"><img src=\"https://colab.research.google.com/assets/colab-badge.svg\" alt=\"Open In Colab\"/></a>"
      ]
    },
    {
      "cell_type": "code",
      "execution_count": null,
      "metadata": {
        "id": "PBf_JjegxM9c"
      },
      "outputs": [],
      "source": []
    },
    {
      "cell_type": "markdown",
      "source": [
        "# **Sistemas numéricos**"
      ],
      "metadata": {
        "id": "g5B-rCjXxcGB"
      }
    },
    {
      "cell_type": "code",
      "source": [
        "número = 300\n",
        "\n",
        "bin(número) #De decimal a binario\n",
        "oct(número) #De decimal a octal\n",
        "hex(número) #De decimal a hexadecimal\n",
        "\n",
        "print(número,\"en binario es \",bin(numero))\n",
        "print(número,\"en octal es \",oct(numero))\n",
        "print(número,\"en hexadecimal es \",hex(numero))"
      ],
      "metadata": {
        "colab": {
          "base_uri": "https://localhost:8080/"
        },
        "id": "Gea7MW2WxojO",
        "outputId": "4101d093-fa79-4600-f891-749dd2f06c25"
      },
      "execution_count": 1,
      "outputs": [
        {
          "output_type": "stream",
          "name": "stdout",
          "text": [
            "300 en binario es  0b100101100\n",
            "300 en octal es  0o454\n",
            "300 en hexadecimal es  0x12c\n"
          ]
        }
      ]
    },
    {
      "cell_type": "code",
      "source": [
        "número = 300\n",
        "def binario(número): #Usamos el residuo para hacer la iteración\n",
        "  binario = \"\"\n",
        "  while número > 0:\n",
        "    residuo = número % 2\n",
        "    binario = str(residuo) + binario\n",
        "    número //= 2\n",
        "  return binario\n",
        "print(\"el número \",número,\" en binario es \",binario(número))"
      ],
      "metadata": {
        "colab": {
          "base_uri": "https://localhost:8080/"
        },
        "id": "s1eEIxIVyQN5",
        "outputId": "5bbd96e1-bb0c-4628-f81c-cae9e583fbc0"
      },
      "execution_count": 4,
      "outputs": [
        {
          "output_type": "stream",
          "name": "stdout",
          "text": [
            "el numero  300  en binario es  100101100\n"
          ]
        }
      ]
    },
    {
      "cell_type": "code",
      "source": [
        "número = 300\n",
        "def octal(número):\n",
        "  octal = \"\"\n",
        "  while número > 0:\n",
        "    residuo = número % 8\n",
        "    octal = str(residuo) + octal\n",
        "    número //= 2\n",
        "  return octal\n",
        "print(\"el número \",número,\" en octal es \",octal(número))"
      ],
      "metadata": {
        "colab": {
          "base_uri": "https://localhost:8080/"
        },
        "id": "NFdmgcIxzOHZ",
        "outputId": "362b8714-b3a2-4e31-9ca7-676b37ec1c6e"
      },
      "execution_count": 5,
      "outputs": [
        {
          "output_type": "stream",
          "name": "stdout",
          "text": [
            "el numero  300  en octal es  124125364\n"
          ]
        }
      ]
    },
    {
      "cell_type": "code",
      "source": [
        "def decimal_a_binario(numero, precision=10):\n",
        "    # Parte entera\n",
        "    parte_entera = int(numero)\n",
        "    binario_entero = bin(parte_entera).replace(\"el número en binario es \", \"\")\n",
        "\n",
        "    # Parte decimal\n",
        "    parte_decimal = numero - parte_entera\n",
        "    binario_decimal = \".\"\n",
        "\n",
        "    while precision > 0 and parte_decimal != 0:\n",
        "        parte_decimal *= 2\n",
        "        digito = int(parte_decimal)\n",
        "        binario_decimal += str(digito)\n",
        "        parte_decimal -= digito\n",
        "        precision -= 1\n",
        "\n",
        "    return binario_entero + binario_decimal\n",
        "\n",
        "# Ejemplo de uso\n",
        "numero = 10.625\n",
        "resultado = decimal_a_binario(numero)\n",
        "print(f\"El número {numero} en binario es: {resultado}\")"
      ],
      "metadata": {
        "colab": {
          "base_uri": "https://localhost:8080/"
        },
        "id": "b6RMaRSf0irl",
        "outputId": "1ef3e6c7-4011-4e37-a29a-73c6cb19f450"
      },
      "execution_count": 6,
      "outputs": [
        {
          "output_type": "stream",
          "name": "stdout",
          "text": [
            "El número 10.625 en binario es: 0b1010.101\n"
          ]
        }
      ]
    }
  ]
}